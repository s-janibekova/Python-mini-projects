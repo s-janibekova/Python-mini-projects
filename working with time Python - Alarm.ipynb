{
 "cells": [
  {
   "cell_type": "markdown",
   "metadata": {},
   "source": [
    "Change Return Program - The user enters a cost and then the amount of money given. The program will figure out the change and the number of quarters, dimes, nickels, pennies needed for the change."
   ]
  },
  {
   "cell_type": "code",
   "execution_count": null,
   "metadata": {},
   "outputs": [],
   "source": [
    "import math\n",
    "\n",
    "def greedy_money_exchange(denom,amount):\n",
    "    result_array = len(denom) * [0]\n",
    "    i = 0\n",
    "    while amount > 0 :\n",
    "        num = amount // denom[i]\n",
    "        result_array[i] = num\n",
    "        amount = amount - num * denom[i]\n",
    "        i+=1 \n",
    "    return result_array\n",
    "    \n",
    "    \n",
    "greedy_money_exchange([3,1], 20)"
   ]
  },
  {
   "cell_type": "code",
   "execution_count": null,
   "metadata": {},
   "outputs": [],
   "source": [
    "greedy_money_exchange([3,1], 20)"
   ]
  },
  {
   "cell_type": "markdown",
   "metadata": {},
   "source": [
    "Alarm Clock - A simple clock where it plays a sound after X number of minutes/seconds or at a particular time"
   ]
  },
  {
   "cell_type": "code",
   "execution_count": null,
   "metadata": {},
   "outputs": [],
   "source": [
    "# time \n",
    "# if time == alarm time \n",
    "# go make sound \n"
   ]
  },
  {
   "cell_type": "code",
   "execution_count": null,
   "metadata": {},
   "outputs": [],
   "source": [
    "# from datetime import datetime\n",
    "# wake_time = input(\"please enter your wake time ? \")\n",
    "# str_time = datetime.now().strftime(\"%H:%M:%S\")\n",
    "# current_time = \"\".join(str_time.split(\":\").pop())\n",
    "# while current_time != wake_time:\n",
    "#     str_time = datetime.now().strftime(\"%H:%M:%S\")\n",
    "#     current_time = \"\".join(str_time.split(\":\").pop())\n",
    "#     print(str_time)\n",
    "#     current_time = \"\".join(str_time.split(\":\").pop())\n",
    "\n",
    "# print(\"Waaakeeeeee uppppp\")\n",
    "\n"
   ]
  },
  {
   "cell_type": "code",
   "execution_count": 5,
   "metadata": {},
   "outputs": [
    {
     "name": "stdout",
     "output_type": "stream",
     "text": [
      "What unit of time do you want to wait?\n",
      " (1) Hours\n",
      " (2) Minutes\n",
      " (3) Seconds\n",
      " (4) Combination\n",
      ": 3\n",
      "Enter the desired seconds: 2\n",
      "\n",
      "Wait time: 2 seconds.\n"
     ]
    }
   ],
   "source": [
    "import winsound, time, os, platform\n",
    "\n",
    "\n",
    "def sound():\n",
    "\n",
    "    for i in range(2): # Number of repeats\n",
    "        for j in range(9): # Number of beeps\n",
    "\n",
    "            winsound.MessageBeep(-1) # Sound played\n",
    "\n",
    "        time.sleep(2) # How long between beeps\n",
    "\n",
    "def alarm(n):\n",
    "\n",
    "    print()\n",
    "    print(\"Wait time:\", n, \"seconds.\")\n",
    "    time.sleep(n) # Waits 'n' seconds before playing sound\n",
    "\n",
    "    sound()\n",
    "\n",
    "def input_destinations(user_input):\n",
    "\n",
    "    if user_input == '1':\n",
    "\n",
    "        user_input = int(input(\"Enter the desired hours: \"))\n",
    "\n",
    "        wait_time = (user_input * 60) * 60\n",
    "        alarm(wait_time)\n",
    "\n",
    "    elif user_input == '2':\n",
    "\n",
    "        user_input = int(input(\"Enter the desired minutes: \"))\n",
    "\n",
    "        wait_time = user_input * 60\n",
    "        alarm(wait_time)\n",
    "\n",
    "    elif user_input == '3':\n",
    "\n",
    "        user_input = int(input(\"Enter the desired seconds: \"))\n",
    "\n",
    "        wait_time = user_input\n",
    "        alarm(wait_time)\n",
    "\n",
    "    elif user_input == '4':\n",
    "\n",
    "        hours = int(input(\"Hours: \"))\n",
    "        minutes = int(input(\"Minutes: \"))\n",
    "        seconds = int(input(\"Seconds: \"))\n",
    "\n",
    "        wait_time = ((hours*60)*60) + (minutes*60) + seconds\n",
    "        print(wait_time)\n",
    "        alarm(wait_time)\n",
    "\n",
    "    else:\n",
    "\n",
    "        try:\n",
    "            os.system('cls') # If OS is Windows\n",
    "            main()\n",
    "\n",
    "        except:\n",
    "            os.system('clear') # If OS is Linux or Mac\n",
    "            main()\n",
    "\n",
    "    def main():\n",
    "        print(\"What unit of time do you want to wait?\\n (1) Hours\\n (2) Minutes\\n (3) Seconds\\n (4) Combination\")\n",
    "        main_input = input(\": \")\n",
    "\n",
    "        input_destinations(main_input)\n",
    "\n",
    "    return;\n",
    "\n",
    "main()\n",
    "\n",
    "        \n"
   ]
  },
  {
   "cell_type": "code",
   "execution_count": null,
   "metadata": {},
   "outputs": [],
   "source": []
  },
  {
   "cell_type": "code",
   "execution_count": null,
   "metadata": {},
   "outputs": [],
   "source": []
  },
  {
   "cell_type": "code",
   "execution_count": null,
   "metadata": {},
   "outputs": [],
   "source": []
  },
  {
   "cell_type": "code",
   "execution_count": null,
   "metadata": {},
   "outputs": [],
   "source": []
  },
  {
   "cell_type": "code",
   "execution_count": null,
   "metadata": {},
   "outputs": [],
   "source": []
  },
  {
   "cell_type": "code",
   "execution_count": null,
   "metadata": {},
   "outputs": [],
   "source": []
  },
  {
   "cell_type": "code",
   "execution_count": null,
   "metadata": {},
   "outputs": [],
   "source": []
  },
  {
   "cell_type": "code",
   "execution_count": null,
   "metadata": {},
   "outputs": [],
   "source": []
  },
  {
   "cell_type": "code",
   "execution_count": null,
   "metadata": {},
   "outputs": [],
   "source": []
  },
  {
   "cell_type": "code",
   "execution_count": null,
   "metadata": {},
   "outputs": [],
   "source": []
  },
  {
   "cell_type": "code",
   "execution_count": null,
   "metadata": {},
   "outputs": [],
   "source": []
  },
  {
   "cell_type": "code",
   "execution_count": null,
   "metadata": {},
   "outputs": [],
   "source": []
  },
  {
   "cell_type": "code",
   "execution_count": null,
   "metadata": {},
   "outputs": [],
   "source": []
  },
  {
   "cell_type": "code",
   "execution_count": null,
   "metadata": {},
   "outputs": [],
   "source": []
  }
 ],
 "metadata": {
  "kernelspec": {
   "display_name": "Python 3",
   "language": "python",
   "name": "python3"
  },
  "language_info": {
   "codemirror_mode": {
    "name": "ipython",
    "version": 3
   },
   "file_extension": ".py",
   "mimetype": "text/x-python",
   "name": "python",
   "nbconvert_exporter": "python",
   "pygments_lexer": "ipython3",
   "version": "3.7.3"
  }
 },
 "nbformat": 4,
 "nbformat_minor": 2
}
